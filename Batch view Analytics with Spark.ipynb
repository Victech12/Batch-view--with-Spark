{
 "cells": [
  {
   "cell_type": "code",
   "execution_count": 1,
   "metadata": {},
   "outputs": [],
   "source": [
    "cran_downloads_RDD = sc.textFile(\"file:///home/victorbdm/assignment_data/*.gz\")"
   ]
  },
  {
   "cell_type": "code",
   "execution_count": 2,
   "metadata": {},
   "outputs": [],
   "source": [
    "cran_downloads_RDD = cran_downloads_RDD.map(lambda x: x.split(','))"
   ]
  },
  {
   "cell_type": "code",
   "execution_count": 3,
   "metadata": {},
   "outputs": [
    {
     "data": {
      "text/plain": [
       "pyspark.rdd.PipelinedRDD"
      ]
     },
     "execution_count": 3,
     "metadata": {},
     "output_type": "execute_result"
    }
   ],
   "source": [
    "type(cran_downloads_RDD)"
   ]
  },
  {
   "cell_type": "code",
   "execution_count": 4,
   "metadata": {},
   "outputs": [],
   "source": [
    "def remove_quotation(x):\n",
    "    return([xx.replace('\"', '') for xx in x])\n",
    "cran_downloads_RDD = cran_downloads_RDD.map(remove_quotation)"
   ]
  },
  {
   "cell_type": "code",
   "execution_count": 5,
   "metadata": {},
   "outputs": [
    {
     "data": {
      "text/plain": [
       "4267966"
      ]
     },
     "execution_count": 5,
     "metadata": {},
     "output_type": "execute_result"
    }
   ],
   "source": [
    "cran_downloads_RDD.count()"
   ]
  },
  {
   "cell_type": "code",
   "execution_count": 6,
   "metadata": {},
   "outputs": [
    {
     "data": {
      "text/plain": [
       "2189783"
      ]
     },
     "execution_count": 6,
     "metadata": {},
     "output_type": "execute_result"
    }
   ],
   "source": [
    "cran_downloads_RDD.filter(lambda x:'NA' in x).count()"
   ]
  },
  {
   "cell_type": "code",
   "execution_count": 7,
   "metadata": {},
   "outputs": [
    {
     "data": {
      "text/plain": [
       "2078183"
      ]
     },
     "execution_count": 7,
     "metadata": {},
     "output_type": "execute_result"
    }
   ],
   "source": [
    "### Preprocessing was done on the dataset by filtering the NAs in order to get accurate result when performing the analysis\n",
    "\n",
    "cran_RDD = cran_downloads_RDD.filter(lambda x:'NA' not in x)\n",
    "cran_RDD.count()"
   ]
  },
  {
   "cell_type": "code",
   "execution_count": 8,
   "metadata": {},
   "outputs": [
    {
     "data": {
      "text/plain": [
       "[['date',\n",
       "  'time',\n",
       "  'size',\n",
       "  'r_version',\n",
       "  'r_arch',\n",
       "  'r_os',\n",
       "  'package',\n",
       "  'version',\n",
       "  'country',\n",
       "  'ip_id'],\n",
       " ['2021-10-31',\n",
       "  '18:38:16',\n",
       "  '2645712',\n",
       "  '4.1.1',\n",
       "  'x86_64',\n",
       "  'mingw32',\n",
       "  'colorspace',\n",
       "  '2.0-2',\n",
       "  'BR',\n",
       "  '1']]"
      ]
     },
     "execution_count": 8,
     "metadata": {},
     "output_type": "execute_result"
    }
   ],
   "source": [
    "cran_RDD.take(2)"
   ]
  },
  {
   "cell_type": "code",
   "execution_count": 9,
   "metadata": {},
   "outputs": [
    {
     "data": {
      "text/plain": [
       "[('package', 1),\n",
       " ('colorspace', 9197),\n",
       " ('farver', 9142),\n",
       " ('labeling', 8900),\n",
       " ('munsell', 8948)]"
      ]
     },
     "execution_count": 9,
     "metadata": {},
     "output_type": "execute_result"
    }
   ],
   "source": [
    "package_download_count = cran_RDD.map(lambda x:(x[6], 1))\n",
    "package_download_count = package_download_count.reduceByKey(lambda a,b: a+b)\n",
    "package_download_count.take(5)"
   ]
  },
  {
   "cell_type": "code",
   "execution_count": 10,
   "metadata": {},
   "outputs": [
    {
     "data": {
      "text/plain": [
       "[('ggplot2', 39295)]"
      ]
     },
     "execution_count": 10,
     "metadata": {},
     "output_type": "execute_result"
    }
   ],
   "source": [
    "### Show number of downloads for package ggplot2.\n",
    "\n",
    "ggplot2_package= package_download_count.filter(lambda a: 'ggplot2' in a)\n",
    "ggplot2_package.collect()"
   ]
  },
  {
   "cell_type": "code",
   "execution_count": 11,
   "metadata": {},
   "outputs": [
    {
     "data": {
      "text/plain": [
       "[('US', 786325), ('GB', 330085), ('CN', 117923), ('KR', 55715), ('DE', 47689)]"
      ]
     },
     "execution_count": 11,
     "metadata": {},
     "output_type": "execute_result"
    }
   ],
   "source": [
    "### List the highest number of downloads by a country\n",
    "\n",
    "country_download = cran_RDD.map(lambda x: (x[8], 1))\n",
    "country_download = country_download.reduceByKey(lambda a,b: a+b)\n",
    "country_download.sortBy(lambda a: a[1], ascending = False).take(5)"
   ]
  },
  {
   "cell_type": "code",
   "execution_count": 25,
   "metadata": {},
   "outputs": [
    {
     "data": {
      "text/plain": [
       "[('size', 'package'),\n",
       " ('2645712', 'colorspace'),\n",
       " ('1753197', 'farver'),\n",
       " ('63213', 'labeling'),\n",
       " ('245895', 'munsell'),\n",
       " ('56241', 'RColorBrewer'),\n",
       " ('1300028', 'viridisLite'),\n",
       " ('434915', 'gtable'),\n",
       " ('2727296', 'isoband'),\n",
       " ('558584', 'scales')]"
      ]
     },
     "execution_count": 25,
     "metadata": {},
     "output_type": "execute_result"
    }
   ],
   "source": [
    "###  Show top 10 largest sized packages.\n",
    "\n",
    "largest_size_package = cran_RDD.map(lambda x: (x[2], x[6])).groupByKey().mapValues(max)\n",
    "largest_size_package.take(10)\n"
   ]
  },
  {
   "cell_type": "code",
   "execution_count": 13,
   "metadata": {},
   "outputs": [
    {
     "data": {
      "text/plain": [
       "[('ragg', 50727),\n",
       " ('textshaping', 50317),\n",
       " ('ggplot2', 39295),\n",
       " ('devtools', 28604),\n",
       " ('Hmisc', 28302),\n",
       " ('sf', 26603),\n",
       " ('units', 26166),\n",
       " ('rgeos', 25547),\n",
       " ('pkgdown', 25281),\n",
       " ('cli', 17910)]"
      ]
     },
     "execution_count": 13,
     "metadata": {},
     "output_type": "execute_result"
    }
   ],
   "source": [
    "### What were the top 10 most popular packages?\n",
    "\n",
    "most_popular_package = package_download_count.sortBy(lambda a: a[1], ascending=False)\n",
    "most_popular_package.take(10)"
   ]
  },
  {
   "cell_type": "code",
   "execution_count": 14,
   "metadata": {},
   "outputs": [
    {
     "data": {
      "text/plain": [
       "[(('ragg', 'linux-gnu'), 49923),\n",
       " (('textshaping', 'linux-gnu'), 49866),\n",
       " (('ggplot2', 'linux-gnu'), 26424),\n",
       " (('Hmisc', 'linux-gnu'), 25450),\n",
       " (('devtools', 'linux-gnu'), 25403),\n",
       " (('sf', 'linux-gnu'), 25079),\n",
       " (('pkgdown', 'linux-gnu'), 25031),\n",
       " (('units', 'linux-gnu'), 25021),\n",
       " (('rgeos', 'linux-gnu'), 24882),\n",
       " (('cli', 'mingw32'), 12188)]"
      ]
     },
     "execution_count": 14,
     "metadata": {},
     "output_type": "execute_result"
    }
   ],
   "source": [
    "### What OS is used for downloading the most popular package?\n",
    "\n",
    "\n",
    "popular_package_os = cran_RDD.map(lambda x:((x[6],x[5]), 1))\n",
    "popular_package_os= popular_package_os.reduceByKey(lambda a,b: a+b)\n",
    "popular_package_os.sortBy(lambda a: a[1], ascending=False).take(10)"
   ]
  },
  {
   "cell_type": "code",
   "execution_count": 15,
   "metadata": {},
   "outputs": [
    {
     "data": {
      "text/plain": [
       "[(('viridisLite', 'IE'), 28),\n",
       " (('lessR', 'IE'), 2),\n",
       " (('janitor', 'IE'), 6),\n",
       " (('crayon', 'IE'), 53),\n",
       " (('cli', 'IE'), 124)]"
      ]
     },
     "execution_count": 15,
     "metadata": {},
     "output_type": "execute_result"
    }
   ],
   "source": [
    "###  What is the most popular package in Ireland?\n",
    "\n",
    "\n",
    "ireland_package_download=cran_RDD.filter(lambda x: x[8]=='IE')\n",
    "ireland_package_download = ireland_package_download.map(lambda x:((x[6],x[8]),1))\n",
    "ireland_package_download=ireland_package_download.reduceByKey(lambda a,b: a+b)\n",
    "ireland_package_download.take(5)\n"
   ]
  },
  {
   "cell_type": "code",
   "execution_count": 16,
   "metadata": {},
   "outputs": [
    {
     "data": {
      "text/plain": [
       "[(('tidyverse', 'IE'), 129)]"
      ]
     },
     "execution_count": 16,
     "metadata": {},
     "output_type": "execute_result"
    }
   ],
   "source": [
    "ireland_package_download.sortBy(lambda a: a[1], ascending=False).take(1)"
   ]
  },
  {
   "cell_type": "code",
   "execution_count": 17,
   "metadata": {},
   "outputs": [
    {
     "data": {
      "text/plain": [
       "[('x86_64', 2004317),\n",
       " ('aarch64', 46031),\n",
       " ('i386', 27317),\n",
       " ('arm', 301),\n",
       " ('i686', 216),\n",
       " ('r_arch', 1)]"
      ]
     },
     "execution_count": 17,
     "metadata": {},
     "output_type": "execute_result"
    }
   ],
   "source": [
    "###  What is the highest number of downloads by a single machine?\n",
    "\n",
    "machine_download = cran_RDD.map(lambda x:(x[4], 1))\n",
    "machine_download=machine_download.reduceByKey(lambda a,b: a+b)\n",
    "machine_download.sortBy(lambda a: a[1], ascending=False).collect()"
   ]
  },
  {
   "cell_type": "code",
   "execution_count": 18,
   "metadata": {},
   "outputs": [
    {
     "data": {
      "text/plain": [
       "[(('x86_64', 'mingw32'), 1084447)]"
      ]
     },
     "execution_count": 18,
     "metadata": {},
     "output_type": "execute_result"
    }
   ],
   "source": [
    "## What OS it has\n",
    "\n",
    "machine_download_os = cran_RDD.map(lambda x:((x[4],x[5]), 1))\n",
    "machine_download_os=machine_download_os.reduceByKey(lambda a,b: a+b)\n",
    "machine_download_os.sortBy(lambda a: a[1], ascending=False).take(1)"
   ]
  },
  {
   "cell_type": "code",
   "execution_count": 19,
   "metadata": {},
   "outputs": [
    {
     "data": {
      "text/plain": [
       "[('mingw32', 1111764), ('linux-gnu', 519725)]"
      ]
     },
     "execution_count": 19,
     "metadata": {},
     "output_type": "execute_result"
    }
   ],
   "source": [
    "###  What OS is most popular among the R programmers?\n",
    "\n",
    "popular_os = cran_RDD.map(lambda x:(x[5], 1))\n",
    "popular_os = popular_os.reduceByKey(lambda a,b: a+b)\n",
    "popular_os.sortBy(lambda a: a[1], ascending=False).take(2)"
   ]
  },
  {
   "cell_type": "code",
   "execution_count": 20,
   "metadata": {},
   "outputs": [
    {
     "data": {
      "text/plain": [
       "[('i386', 27317)]"
      ]
     },
     "execution_count": 20,
     "metadata": {},
     "output_type": "execute_result"
    }
   ],
   "source": [
    "###  How many R users still use 32 bit machines?\n",
    "\n",
    "machine_os = cran_RDD.map(lambda x:(x[4], 1))\n",
    "machine_os = machine_os.reduceByKey(lambda a,b: a+b)\n",
    "machine_os.filter(lambda a: 'i386' in a).collect()"
   ]
  },
  {
   "cell_type": "code",
   "execution_count": 21,
   "metadata": {},
   "outputs": [
    {
     "data": {
      "text/plain": [
       "2189783"
      ]
     },
     "execution_count": 21,
     "metadata": {},
     "output_type": "execute_result"
    }
   ],
   "source": [
    "#### . List total number of incomplete records - lines which have missing values.\n",
    "\n",
    "is_na = cran_downloads_RDD.filter(lambda x:'NA' in x)\n",
    "\n",
    "is_na.count()"
   ]
  },
  {
   "cell_type": "code",
   "execution_count": null,
   "metadata": {},
   "outputs": [],
   "source": []
  },
  {
   "cell_type": "code",
   "execution_count": null,
   "metadata": {},
   "outputs": [],
   "source": []
  },
  {
   "cell_type": "code",
   "execution_count": null,
   "metadata": {},
   "outputs": [],
   "source": []
  },
  {
   "cell_type": "code",
   "execution_count": null,
   "metadata": {},
   "outputs": [],
   "source": []
  },
  {
   "cell_type": "code",
   "execution_count": null,
   "metadata": {},
   "outputs": [],
   "source": []
  }
 ],
 "metadata": {
  "kernelspec": {
   "display_name": "Python 3",
   "language": "python",
   "name": "python3"
  },
  "language_info": {
   "codemirror_mode": {
    "name": "ipython",
    "version": 3
   },
   "file_extension": ".py",
   "mimetype": "text/x-python",
   "name": "python",
   "nbconvert_exporter": "python",
   "pygments_lexer": "ipython3",
   "version": "3.8.5"
  }
 },
 "nbformat": 4,
 "nbformat_minor": 5
}
